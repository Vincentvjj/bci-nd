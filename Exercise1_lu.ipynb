{
 "cells": [
  {
   "cell_type": "markdown",
   "metadata": {},
   "source": [
    "# Exercise Sheet 1: Neurons"
   ]
  },
  {
   "cell_type": "code",
   "execution_count": 6,
   "metadata": {},
   "outputs": [],
   "source": [
    "import numpy as np\n",
    "from scipy import constants\n",
    "from matplotlib import pyplot as plt"
   ]
  },
  {
   "cell_type": "markdown",
   "metadata": {},
   "source": [
    "## Task 1: The logistic function (1 point - programming)\n",
    "Write a function \"logistic(h,a=1)\" resembling the logistic function and a second function \"signtrafunc\" the more discrete tranfer function equivalent in form of a function of the sign of the input. Also write a function \"dlogistic(h,a=1)\" resembling the derivative of the logistic function.\n",
    "\n",
    "For defining the sign-based transfer function the inline definition of functions using the syntax trafunc=lambda x: f(x) might be handy, please write the logistic function, however, as a classical function definition. The a=1 in the function definition sets the default to a=1 so the function needs only 1 argument by default."
   ]
  },
  {
   "cell_type": "code",
   "execution_count": 17,
   "metadata": {},
   "outputs": [],
   "source": [
    "def logistic(h,a=1):\n",
    "    return 1 / (1+exp(-(a*h)))\n",
    "\n",
    "signtrafunc = lambda x: (np.sign(x)+1)/2\n",
    "\n",
    "def dlogistic(h, a=1):\n",
    "    return logistic(h,a)*(1-logistic(h,a))"
   ]
  },
  {
   "cell_type": "markdown",
   "metadata": {},
   "source": [
    "## Task 2: Building an artificial neuron  (2 points - programming)\n",
    "Define a class \"neuron\" resembling a simple perceptron. See https://docs.python.org/3/tutorial/classes.html for help on classes.\n",
    "\n",
    "It should have the attributes \"neuron.w\" for the weights, \"neuron.b\" for the bias, the methods \"neuron.trafunc(self,x)\" and \"neuron.dtrafunc(self,x)\" for the transfer function and the method \"neuron.out(self,x)\" to calculate the output for input *x*. \n",
    "\n",
    "Build a constructor method \"\\__init\\__(self,...)\", where self refers to the object itself, which assigns the weight vector *x*, the bias *b* , the transfer function \"trafunc\" and it's derivative \"dtrafunc\" to the neuron."
   ]
  },
  {
   "cell_type": "code",
   "execution_count": 4,
   "metadata": {
    "collapsed": true
   },
   "outputs": [],
   "source": [
    "class neuron:\n",
    "\n",
    "    def __init__(self, W, B):\n",
    "        self.w = W\n",
    "        self.b = B\n",
    "        \n",
    "    def trafunc(self, x):\n",
    "        return logistic(x)\n",
    "    \n",
    "    def dtrafunc(self, x):\n",
    "        return dlogistic(x)\n",
    "    \n",
    "    def out(self, x):\n",
    "        return np.dot(self.w, x) - b\n",
    "            "
   ]
  },
  {
   "cell_type": "markdown",
   "metadata": {},
   "source": [
    "## Task 3: Use an artificial neuron (3 points - thinking and programming)\n",
    "Use instances of the neuron class above to build the equivalents to logical \"or\" and \"and\"-functions and test them for 2-dimensional input vectors *x* resembling all possibilities of combinations ([0,0] [1,0], [0,1], [1,1]).\n",
    "\n",
    "First, use the sign-based transfer function to solve the task and then apply the same weights w and bias b on a neuron with the logistic transfer function.\n",
    "\n",
    "What's the difference?\n",
    "\n",
    "*Hint: if you haven't succeeded with Task 2, you can solve Task 3 analytically and write down the needed weights and results.*"
   ]
  },
  {
   "cell_type": "code",
   "execution_count": 5,
   "metadata": {},
   "outputs": [
    {
     "ename": "ValueError",
     "evalue": "shapes (2,) and (4,2) not aligned: 2 (dim 0) != 4 (dim 0)",
     "output_type": "error",
     "traceback": [
      "\u001b[0;31m---------------------------------------------------------------------------\u001b[0m",
      "\u001b[0;31mValueError\u001b[0m                                Traceback (most recent call last)",
      "\u001b[0;32m<ipython-input-5-84f633f02925>\u001b[0m in \u001b[0;36m<module>\u001b[0;34m()\u001b[0m\n\u001b[1;32m      6\u001b[0m \u001b[0mb\u001b[0m \u001b[0;34m=\u001b[0m \u001b[0;36m1\u001b[0m\u001b[0;34m\u001b[0m\u001b[0m\n\u001b[1;32m      7\u001b[0m \u001b[0mn\u001b[0m \u001b[0;34m=\u001b[0m \u001b[0mneuron\u001b[0m\u001b[0;34m(\u001b[0m\u001b[0mw\u001b[0m\u001b[0;34m,\u001b[0m\u001b[0mb\u001b[0m\u001b[0;34m)\u001b[0m\u001b[0;34m\u001b[0m\u001b[0m\n\u001b[0;32m----> 8\u001b[0;31m \u001b[0mn\u001b[0m\u001b[0;34m.\u001b[0m\u001b[0mout\u001b[0m\u001b[0;34m(\u001b[0m\u001b[0midata\u001b[0m\u001b[0;34m)\u001b[0m\u001b[0;34m\u001b[0m\u001b[0m\n\u001b[0m",
      "\u001b[0;32m<ipython-input-4-a0010d063fc0>\u001b[0m in \u001b[0;36mout\u001b[0;34m(self, x)\u001b[0m\n\u001b[1;32m     12\u001b[0m \u001b[0;34m\u001b[0m\u001b[0m\n\u001b[1;32m     13\u001b[0m     \u001b[0;32mdef\u001b[0m \u001b[0mout\u001b[0m\u001b[0;34m(\u001b[0m\u001b[0mself\u001b[0m\u001b[0;34m,\u001b[0m \u001b[0mx\u001b[0m\u001b[0;34m)\u001b[0m\u001b[0;34m:\u001b[0m\u001b[0;34m\u001b[0m\u001b[0m\n\u001b[0;32m---> 14\u001b[0;31m         \u001b[0;32mreturn\u001b[0m \u001b[0mnp\u001b[0m\u001b[0;34m.\u001b[0m\u001b[0mdot\u001b[0m\u001b[0;34m(\u001b[0m\u001b[0mself\u001b[0m\u001b[0;34m.\u001b[0m\u001b[0mw\u001b[0m\u001b[0;34m,\u001b[0m \u001b[0mx\u001b[0m\u001b[0;34m)\u001b[0m \u001b[0;34m-\u001b[0m \u001b[0mb\u001b[0m\u001b[0;34m\u001b[0m\u001b[0m\n\u001b[0m\u001b[1;32m     15\u001b[0m \u001b[0;34m\u001b[0m\u001b[0m\n",
      "\u001b[0;31mValueError\u001b[0m: shapes (2,) and (4,2) not aligned: 2 (dim 0) != 4 (dim 0)"
     ]
    }
   ],
   "source": [
    "x = np.array([[0,0], [1,0], [0,1], [1,1]])\n",
    "#y_and = np.array([0,0,0,1])\n",
    "#y_or = np.array([0,1,1,0])\n",
    "\n",
    "w = np.array([1,1])\n",
    "b = 1.0\n",
    "n = neuron(w,b)\n",
    "n.out(x)\n"
   ]
  },
  {
   "cell_type": "markdown",
   "metadata": {},
   "source": [
    "## Task 4: The XOR function (100 extra points - thinking and maybe programming)\n",
    "Build an XOR function with a neuron of the class you have created."
   ]
  },
  {
   "cell_type": "code",
   "execution_count": null,
   "metadata": {
    "collapsed": true
   },
   "outputs": [],
   "source": []
  },
  {
   "cell_type": "markdown",
   "metadata": {},
   "source": [
    "## Task 5: The current density (4 points - analytic derivation)\n",
    "Analytically derive the current density $\\vec{J}=-\\sigma\\nabla\\phi$ of a dipole field at origin step-by-step from the potential equation $\\phi(\\vec{r})=\\frac{1}{4\\pi\\epsilon_0}\\frac{\\vec{p}\\cdot\\vec{r}}{\\left|\\vec{r}\\right|^3}$ in Cartesian coordinates.\n",
    "\n",
    "To this extent you will need to build the gradient $\\nabla=\\left(\n",
    "\\begin{array}{c}\n",
    "\t\\frac{\\delta}{\\delta x}\\\\\n",
    "\t\\frac{\\delta}{\\delta y}\\\\\n",
    "\t\\frac{\\delta}{\\delta z}\n",
    "\\end{array}\n",
    "\\right)$!\n",
    "\n",
    "You can take the dipolar moment $\\vec{p}$ to be a constant vector $\\vec{p}=\\left(\n",
    "\\begin{array}{c}\n",
    "\tp_x\\\\\n",
    "\tp_y\\\\\n",
    "\tp_z\n",
    "\\end{array}\n",
    "\\right)$. \n",
    "\n",
    "The vector $\\vec{r}=\\left(\n",
    "\\begin{array}{c}\n",
    "\tx\\\\\n",
    "\ty\\\\\n",
    "\tz\n",
    "\\end{array}\n",
    "\\right)$ is the coordinates in cartesian coordinates and  the norm is the euclidean norm $\\left|\\vec{r}\\right|=\\sqrt{x^2+y^2+z^2}$.\n",
    "\n",
    "$\\sigma$ is the specific conductivity of the material (a constant).\n",
    "\n",
    "*Hint: You can hand in the solution in your format of choice: Write direclty below (Markdown takes latex within $$, jsut double-click on the cell below), Pdf from Latex or Word, scan or photo of a hand-written derivation, etc....*"
   ]
  },
  {
   "cell_type": "markdown",
   "metadata": {},
   "source": [
    "### Solution:\n",
    "$\\vec{J}=-\\sigma \\nabla \\phi=$"
   ]
  },
  {
   "cell_type": "markdown",
   "metadata": {},
   "source": [
    "## Task 6: Electrical Field strength & potential of a dipole (5 points - programming)\n",
    "Write a python function resembling the electrical field potential $\\phi(\\vec{r},\\vec{r}_0)$ and another one for the field strength $\\vec{E}$ of a dipole in infinite charge free space at point $\\vec{r}_0$ in Cartesian coordinates. The function should take the position of the observed point $\\vec{r}$, the position of the dipole $\\vec{r}_0$ and the dipole moment $\\vec{p}$ as inputs and return the scalar potential. $\\vec{r}_0$ should be set to the origin by default. \n",
    "\n",
    "$\\phi(\\vec{r})=\\frac{1}{4\\pi\\epsilon_0}\\frac{\\vec{p}\\cdot\\left(\\vec{r}-\\vec{r}_0\\right)}{\\left|\\vec{r}-\\vec{r}_0\\right|^3}$\n",
    "\n",
    "$\\vec{E}=\\frac{1}{4 \\pi \\epsilon_0 } \\left(3 \\frac{\\left(\\vec{r}-\\vec{r}_0\\right) \\cdot \\vec{p}}{\\left|\\vec{r}-\\vec{r}_0\\right|^5} \\cdot \\left(\\vec{r}-\\vec{r}_0\\right)-\\frac{\\vec{p}}{\\left|\\vec{r}-\\vec{r}_0\\right|^3}\\right)$\n",
    "\n",
    "Make a plot of the two variables in two dimensions from -10 to 10 for both axes in the x/y-plane for a dipole at origin with dipole moment $\\vec{p}=[1,0]$.\n",
    "Plot the potential as decibel values using the matlpotlib function plt.contour/contourf and the field strength using the function plt.steamplot. Draw both plots into the same figure (plt.hold('on')). The arguments to the plot function call for $\\vec{E}$- and $\\phi$- values need to have the shape corresponding to the XX and YY variables from np.meshgrid (see below).\n",
    "\n",
    "*Hint: You can find $\\epsilon_0$ in the scipy constants. Numpy's tensordot might simplify the treatment of multiple positions at once.*\n"
   ]
  },
  {
   "cell_type": "code",
   "execution_count": 23,
   "metadata": {
    "scrolled": false
   },
   "outputs": [
    {
     "ename": "ValueError",
     "evalue": "operands could not be broadcast together with shapes (2,200,200) (2,) ",
     "output_type": "error",
     "traceback": [
      "\u001b[0;31m---------------------------------------------------------------------------\u001b[0m",
      "\u001b[0;31mValueError\u001b[0m                                Traceback (most recent call last)",
      "\u001b[0;32m<ipython-input-23-5e81ee4aac1c>\u001b[0m in \u001b[0;36m<module>\u001b[0;34m()\u001b[0m\n\u001b[1;32m     15\u001b[0m \u001b[0;34m\u001b[0m\u001b[0m\n\u001b[1;32m     16\u001b[0m \u001b[0;31m#Calculate the field and potential on the whole meshgrid\u001b[0m\u001b[0;34m\u001b[0m\u001b[0;34m\u001b[0m\u001b[0m\n\u001b[0;32m---> 17\u001b[0;31m \u001b[0mphi\u001b[0m\u001b[0;34m=\u001b[0m\u001b[0mphi_dip\u001b[0m\u001b[0;34m(\u001b[0m\u001b[0mr\u001b[0m\u001b[0;34m,\u001b[0m\u001b[0mp\u001b[0m\u001b[0;34m)\u001b[0m\u001b[0;34m\u001b[0m\u001b[0m\n\u001b[0m\u001b[1;32m     18\u001b[0m \u001b[0;34m\u001b[0m\u001b[0m\n\u001b[1;32m     19\u001b[0m \u001b[0mE\u001b[0m\u001b[0;34m=\u001b[0m\u001b[0mE_dip\u001b[0m\u001b[0;34m(\u001b[0m\u001b[0;34m[\u001b[0m\u001b[0mXX\u001b[0m\u001b[0;34m,\u001b[0m\u001b[0mYY\u001b[0m\u001b[0;34m]\u001b[0m\u001b[0;34m,\u001b[0m\u001b[0mp\u001b[0m\u001b[0;34m)\u001b[0m\u001b[0;34m\u001b[0m\u001b[0m\n",
      "\u001b[0;32m<ipython-input-23-5e81ee4aac1c>\u001b[0m in \u001b[0;36mphi_dip\u001b[0;34m(r, p, r_0)\u001b[0m\n\u001b[1;32m      9\u001b[0m \u001b[0;32mdef\u001b[0m \u001b[0mphi_dip\u001b[0m\u001b[0;34m(\u001b[0m\u001b[0mr\u001b[0m\u001b[0;34m,\u001b[0m \u001b[0mp\u001b[0m\u001b[0;34m,\u001b[0m \u001b[0mr_0\u001b[0m \u001b[0;34m=\u001b[0m \u001b[0;34m[\u001b[0m\u001b[0;36m0\u001b[0m\u001b[0;34m,\u001b[0m\u001b[0;36m0\u001b[0m\u001b[0;34m]\u001b[0m\u001b[0;34m)\u001b[0m\u001b[0;34m:\u001b[0m\u001b[0;34m\u001b[0m\u001b[0m\n\u001b[1;32m     10\u001b[0m     \u001b[0mk\u001b[0m \u001b[0;34m=\u001b[0m \u001b[0;36m1\u001b[0m \u001b[0;34m/\u001b[0m \u001b[0;36m4\u001b[0m \u001b[0;34m*\u001b[0m \u001b[0mconstants\u001b[0m\u001b[0;34m.\u001b[0m\u001b[0mpi\u001b[0m \u001b[0;34m*\u001b[0m \u001b[0mconstants\u001b[0m\u001b[0;34m.\u001b[0m\u001b[0mepsilon_0\u001b[0m\u001b[0;34m\u001b[0m\u001b[0m\n\u001b[0;32m---> 11\u001b[0;31m     \u001b[0;32mreturn\u001b[0m \u001b[0mk\u001b[0m \u001b[0;34m*\u001b[0m \u001b[0mnp\u001b[0m\u001b[0;34m.\u001b[0m\u001b[0mtensordot\u001b[0m\u001b[0;34m(\u001b[0m\u001b[0mp\u001b[0m\u001b[0;34m,\u001b[0m\u001b[0mr\u001b[0m\u001b[0;34m-\u001b[0m\u001b[0mr_0\u001b[0m\u001b[0;34m,\u001b[0m \u001b[0maxes\u001b[0m \u001b[0;34m=\u001b[0m \u001b[0;36m1\u001b[0m\u001b[0;34m)\u001b[0m \u001b[0;34m/\u001b[0m \u001b[0;34m(\u001b[0m\u001b[0mnp\u001b[0m\u001b[0;34m.\u001b[0m\u001b[0mlinalg\u001b[0m\u001b[0;34m.\u001b[0m\u001b[0mnorm\u001b[0m\u001b[0;34m(\u001b[0m\u001b[0mr\u001b[0m\u001b[0;34m-\u001b[0m\u001b[0mr_0\u001b[0m\u001b[0;34m,\u001b[0m\u001b[0maxis\u001b[0m \u001b[0;34m=\u001b[0m \u001b[0;36m0\u001b[0m\u001b[0;34m)\u001b[0m\u001b[0;34m)\u001b[0m\u001b[0;34m**\u001b[0m\u001b[0;36m3\u001b[0m\u001b[0;34m\u001b[0m\u001b[0m\n\u001b[0m\u001b[1;32m     12\u001b[0m \u001b[0;34m\u001b[0m\u001b[0m\n\u001b[1;32m     13\u001b[0m \u001b[0;32mdef\u001b[0m \u001b[0mE_dip\u001b[0m \u001b[0;34m(\u001b[0m\u001b[0mr\u001b[0m\u001b[0;34m,\u001b[0m\u001b[0mp\u001b[0m\u001b[0;34m,\u001b[0m\u001b[0mr_0\u001b[0m \u001b[0;34m=\u001b[0m \u001b[0;34m[\u001b[0m\u001b[0;36m0\u001b[0m\u001b[0;34m,\u001b[0m\u001b[0;36m0\u001b[0m\u001b[0;34m]\u001b[0m\u001b[0;34m)\u001b[0m\u001b[0;34m:\u001b[0m\u001b[0;34m\u001b[0m\u001b[0m\n",
      "\u001b[0;31mValueError\u001b[0m: operands could not be broadcast together with shapes (2,200,200) (2,) "
     ]
    }
   ],
   "source": [
    "x=np.arange(-10,10,0.1)\n",
    "y=np.arange(-10,10,0.1)\n",
    "\n",
    "XX,YY=np.meshgrid(x,y)\n",
    "\n",
    "p = np.array([1,0]) #dipole moment\n",
    "r = np.array([XX,YY])\n",
    "\n",
    "def phi_dip(r, p, r_0 = [0,0]):\n",
    "    k = 1 / 4 * constants.pi * constants.epsilon_0\n",
    "    return k * np.tensordot(p,r-r_0, axes = 1) / (np.linalg.norm(r-r_0,axis = 0))**3\n",
    "\n",
    "def E_dip (r,p,r_0 = [0,0]):\n",
    "    return\n",
    "\n",
    "#Calculate the field and potential on the whole meshgrid \n",
    "phi=phi_dip(r,p)\n",
    "\n",
    "E=E_dip([XX,YY],p)"
   ]
  },
  {
   "cell_type": "code",
   "execution_count": 16,
   "metadata": {},
   "outputs": [
    {
     "name": "stdout",
     "output_type": "stream",
     "text": [
      "(2, 200, 200)\n"
     ]
    },
    {
     "data": {
      "text/plain": [
       "(200, 200)"
      ]
     },
     "execution_count": 16,
     "metadata": {},
     "output_type": "execute_result"
    }
   ],
   "source": [
    "r = np.array([XX,YY])\n",
    "print(r.shape)\n",
    "p = [0,1]\n",
    "np.tensordot(p,r, axes = 1).shape"
   ]
  },
  {
   "cell_type": "code",
   "execution_count": null,
   "metadata": {
    "collapsed": true
   },
   "outputs": [],
   "source": []
  }
 ],
 "metadata": {
  "anaconda-cloud": {},
  "kernelspec": {
   "display_name": "Python 3",
   "language": "python",
   "name": "python3"
  },
  "language_info": {
   "codemirror_mode": {
    "name": "ipython",
    "version": 3
   },
   "file_extension": ".py",
   "mimetype": "text/x-python",
   "name": "python",
   "nbconvert_exporter": "python",
   "pygments_lexer": "ipython3",
   "version": "3.6.1"
  }
 },
 "nbformat": 4,
 "nbformat_minor": 1
}
